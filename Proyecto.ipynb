{
 "cells": [
  {
   "cell_type": "code",
   "execution_count": 1,
   "metadata": {},
   "outputs": [
    {
     "name": "stdout",
     "output_type": "stream",
     "text": [
      "Requirement already satisfied: requests in c:\\users\\luisete\\appdata\\local\\packages\\pythonsoftwarefoundation.python.3.11_qbz5n2kfra8p0\\localcache\\local-packages\\python311\\site-packages (2.31.0)\n",
      "Requirement already satisfied: charset-normalizer<4,>=2 in c:\\users\\luisete\\appdata\\local\\packages\\pythonsoftwarefoundation.python.3.11_qbz5n2kfra8p0\\localcache\\local-packages\\python311\\site-packages (from requests) (3.3.2)\n",
      "Requirement already satisfied: idna<4,>=2.5 in c:\\users\\luisete\\appdata\\local\\packages\\pythonsoftwarefoundation.python.3.11_qbz5n2kfra8p0\\localcache\\local-packages\\python311\\site-packages (from requests) (3.4)\n",
      "Requirement already satisfied: urllib3<3,>=1.21.1 in c:\\users\\luisete\\appdata\\local\\packages\\pythonsoftwarefoundation.python.3.11_qbz5n2kfra8p0\\localcache\\local-packages\\python311\\site-packages (from requests) (2.1.0)\n",
      "Requirement already satisfied: certifi>=2017.4.17 in c:\\users\\luisete\\appdata\\local\\packages\\pythonsoftwarefoundation.python.3.11_qbz5n2kfra8p0\\localcache\\local-packages\\python311\\site-packages (from requests) (2023.11.17)\n",
      "Note: you may need to restart the kernel to use updated packages.\n"
     ]
    },
    {
     "name": "stderr",
     "output_type": "stream",
     "text": [
      "\n",
      "[notice] A new release of pip is available: 23.3.1 -> 23.3.2\n",
      "[notice] To update, run: python.exe -m pip install --upgrade pip\n"
     ]
    }
   ],
   "source": [
    "pip install requests\n"
   ]
  },
  {
   "cell_type": "code",
   "execution_count": 14,
   "metadata": {},
   "outputs": [
    {
     "name": "stdout",
     "output_type": "stream",
     "text": [
      "1. Nicaraguan Arroz con Pollo Recipe\n",
      "2. Caldo de Pollo\n",
      "3. Arroz Con Pollo\n",
      "4. Pollo Relleno\n",
      "5. Arroz Con Pollo\n",
      "6. Pollo Borracho\n",
      "7. Barbacoa de pollo\n",
      "8. Tinga de Pollo\n",
      "9. Pollo Asado\n",
      "10. Arroz Con Pollo\n"
     ]
    }
   ],
   "source": [
    "import requests\n",
    "\n",
    "# Valores de la API\n",
    "app_id = \"0ceaaf83\"\n",
    "app_key = \"93ff26f92c228dbafa3d7d2f9b789a39\"\n",
    "query = \"pollo\"  \n",
    "\n",
    "api_url = 'https://api.edamam.com/search'\n",
    "\n",
    "params = {\n",
    "    'q': query,  # Término de búsqueda \n",
    "    'app_id': app_id,\n",
    "    'app_key': app_key\n",
    "}\n",
    "\n",
    "response = requests.get(api_url, params=params)\n",
    "\n",
    "if response.status_code == 200:\n",
    "    data = response.json()\n",
    "    recipes = data.get(\"hits\", [])\n",
    "\n",
    "    for index, recipe in enumerate(recipes, start=1):\n",
    "        recipe_label = recipe[\"recipe\"][\"label\"]\n",
    "        print(f\"{index}. {recipe_label}\")\n",
    "else:\n",
    "    print(f\"Error en la consulta. Código de estado: {response.status_code}\")\n"
   ]
  },
  {
   "cell_type": "code",
   "execution_count": 18,
   "metadata": {},
   "outputs": [],
   "source": [
    "\n",
    "import itertools\n",
    "import requests\n",
    "\n",
    "def generate_personalized_recipes(available_ingredients, app_id, app_key):\n",
    "    # Obtener todas las combinaciones posibles de ingredientes\n",
    "    all_combinations = []\n",
    "    for r in range(1, len(available_ingredients)):\n",
    "        combinations = list(itertools.combinations(available_ingredients, r))\n",
    "        all_combinations.extend(combinations)\n",
    "\n",
    "    # Obtener recetas de Edamam para cada combinación\n",
    "    for index, combination in enumerate(all_combinations, start=1):\n",
    "        # Convertir la combinación de ingredientes a una cadena separada por comas\n",
    "        ingredients_query = ','.join(combination)\n",
    "        params = {\n",
    "            'q': ingredients_query,  # Término de búsqueda\n",
    "            'app_id': app_id,\n",
    "            'app_key': app_key\n",
    "        }\n",
    "        # Hacer la petición a la API de Edamam\n",
    "        response = requests.get('https://api.edamam.com/search', params=params)\n",
    "        \n",
    "        if response.status_code == 200:\n",
    "            data = response.json()\n",
    "            recipes = data.get(\"hits\", [])\n",
    "            print(f\"Recetas para la combinación {index}:\")\n",
    "            for recipe in recipes:\n",
    "                recipe_label = recipe[\"recipe\"][\"label\"]\n",
    "                print(f\"{recipe_label}\")\n",
    "            print()\n",
    "        else:\n",
    "            print(f\"Error en la consulta para la combinación {index}. Código de estado: {response.status_code}\")\n"
   ]
  },
  {
   "cell_type": "code",
   "execution_count": 19,
   "metadata": {},
   "outputs": [
    {
     "name": "stdout",
     "output_type": "stream",
     "text": [
      "Recetas para la combinación 1:\n",
      "Tomate Frito From 'Yucatán'\n",
      "Salsa de Tomate\n",
      "Pan con Tomate con Aguacate\n",
      "Spanish-Style Toast With Tomato (Pan Con Tomate)\n",
      "Grilled Bread with Tomato (Pan con Tomate)\n",
      "Pan con Tomate\n",
      "Pan con Tomate\n",
      "Rouge Tomate's Velvet Sunrise Recipe\n",
      "Pan con Tomate with Fried Eggs\n",
      "Bread with Tomato: Pan Con Tomate\n",
      "\n",
      "Recetas para la combinación 2:\n",
      "Nicaraguan Arroz con Pollo Recipe\n",
      "Caldo de Pollo\n",
      "Arroz Con Pollo\n",
      "Pollo Relleno\n",
      "Arroz Con Pollo\n",
      "Pollo Borracho\n",
      "Barbacoa de pollo\n",
      "Tinga de Pollo\n",
      "Pollo Asado\n",
      "Arroz Con Pollo\n",
      "\n"
     ]
    }
   ],
   "source": [
    "# Obtener ingredientes\n",
    "ingredients_str = input(\"Ingresa los ingredientes disponibles (separados por comas): \")\n",
    "available_ingredients = [ingredient.strip() for ingredient in ingredients_str.split(\",\")]\n",
    "\n",
    "# Generar recetas personalizadas\n",
    "generate_personalized_recipes(available_ingredients, app_id, app_key)\n"
   ]
  },
  {
   "cell_type": "code",
   "execution_count": null,
   "metadata": {},
   "outputs": [],
   "source": []
  }
 ],
 "metadata": {
  "kernelspec": {
   "display_name": "Python 3",
   "language": "python",
   "name": "python3"
  },
  "language_info": {
   "codemirror_mode": {
    "name": "ipython",
    "version": 3
   },
   "file_extension": ".py",
   "mimetype": "text/x-python",
   "name": "python",
   "nbconvert_exporter": "python",
   "pygments_lexer": "ipython3",
   "version": "3.11.7"
  }
 },
 "nbformat": 4,
 "nbformat_minor": 2
}
