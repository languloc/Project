{
 "cells": [
  {
   "cell_type": "code",
   "execution_count": 1,
   "metadata": {},
   "outputs": [
    {
     "name": "stdout",
     "output_type": "stream",
     "text": [
      "Requirement already satisfied: requests in c:\\users\\luisete\\appdata\\local\\packages\\pythonsoftwarefoundation.python.3.11_qbz5n2kfra8p0\\localcache\\local-packages\\python311\\site-packages (2.31.0)\n",
      "Requirement already satisfied: charset-normalizer<4,>=2 in c:\\users\\luisete\\appdata\\local\\packages\\pythonsoftwarefoundation.python.3.11_qbz5n2kfra8p0\\localcache\\local-packages\\python311\\site-packages (from requests) (3.3.2)\n",
      "Requirement already satisfied: idna<4,>=2.5 in c:\\users\\luisete\\appdata\\local\\packages\\pythonsoftwarefoundation.python.3.11_qbz5n2kfra8p0\\localcache\\local-packages\\python311\\site-packages (from requests) (3.4)\n",
      "Requirement already satisfied: urllib3<3,>=1.21.1 in c:\\users\\luisete\\appdata\\local\\packages\\pythonsoftwarefoundation.python.3.11_qbz5n2kfra8p0\\localcache\\local-packages\\python311\\site-packages (from requests) (2.1.0)\n",
      "Requirement already satisfied: certifi>=2017.4.17 in c:\\users\\luisete\\appdata\\local\\packages\\pythonsoftwarefoundation.python.3.11_qbz5n2kfra8p0\\localcache\\local-packages\\python311\\site-packages (from requests) (2023.11.17)\n",
      "Note: you may need to restart the kernel to use updated packages.\n"
     ]
    },
    {
     "name": "stderr",
     "output_type": "stream",
     "text": [
      "\n",
      "[notice] A new release of pip is available: 23.3.1 -> 23.3.2\n",
      "[notice] To update, run: python.exe -m pip install --upgrade pip\n"
     ]
    }
   ],
   "source": [
    "pip install requests\n"
   ]
  },
  {
   "cell_type": "code",
   "execution_count": 4,
   "metadata": {},
   "outputs": [],
   "source": [
    "import itertools\n",
    "import requests\n",
    "\n",
    "# Valores de la API\n",
    "app_id = \"0ceaaf83\"\n",
    "app_key = \"93ff26f92c228dbafa3d7d2f9b789a39\"\n",
    "\n",
    "# Función para obtener recetas de Edamam según ingredientes\n",
    "def get_recipes_by_ingredients(ingredients, app_id, app_key):\n",
    "    # Convierto la lista \n",
    "    ingredients_query = ','.join(ingredients)\n",
    "    \n",
    "    params = {\n",
    "        'q': ingredients_query,  # La búsqueda\n",
    "        'app_id': app_id,\n",
    "        'app_key': app_key\n",
    "    }\n",
    "    # Petición a la API\n",
    "    response = requests.get('https://api.edamam.com/search', params=params)\n",
    "\n",
    "    if response.status_code == 200:\n",
    "        data = response.json()\n",
    "        recipes = data.get(\"hits\", [])\n",
    "        return recipes\n",
    "    else:\n",
    "        print(f\"Error en la consulta a Edamam. Código de estado: {response.status_code}\")\n",
    "        return []"
   ]
  },
  {
   "cell_type": "code",
   "execution_count": 5,
   "metadata": {},
   "outputs": [],
   "source": [
    "# Función para generar recetas personalizadas\n",
    "def generate_personalized_recipes(available_ingredients, app_id, app_key):\n",
    "    # Imprimo recetas para cada ingrediente\n",
    "    for ingredient in available_ingredients:\n",
    "        recipes = get_recipes_by_ingredients([ingredient], app_id, app_key)\n",
    "        print(f\"Recetas para {ingredient}:\")\n",
    "        if recipes:\n",
    "            for recipe in recipes:\n",
    "                recipe_label = recipe[\"recipe\"][\"label\"]\n",
    "                print(f\"{recipe_label}\")\n",
    "        else:\n",
    "            print(\"No hay recetas para este ingrediente.\")\n",
    "        print()\n",
    "\n",
    "    # Imprimo las recetas que contengan al menos esos alimentos, de menor a mayor\n",
    "    for r in range(2, len(available_ingredients) + 1):\n",
    "        combinations = list(itertools.combinations(available_ingredients, r))\n",
    "        for combination in combinations:\n",
    "            recipes = get_recipes_by_ingredients(list(combination), app_id, app_key)\n",
    "            print(f\"Recetas para la combinación {combination}:\")\n",
    "            if recipes:\n",
    "                for recipe in recipes:\n",
    "                    recipe_label = recipe[\"recipe\"][\"label\"]\n",
    "                    print(f\"{recipe_label}\")\n",
    "            else:\n",
    "                print(\"No hay recetas para esta combinación.\")\n",
    "            print()"
   ]
  },
  {
   "cell_type": "code",
   "execution_count": 6,
   "metadata": {},
   "outputs": [
    {
     "name": "stdout",
     "output_type": "stream",
     "text": [
      "Recetas para arroz:\n",
      "Nicaraguan Arroz con Pollo Recipe\n",
      "Arroz Con Leche\n",
      "Arroz Con Pollo\n",
      "Arroz Abanda recipes\n",
      "Arroz Amarillo recipes\n",
      "Arroz Caldo\n",
      "Arroz con Pollo\n",
      "Arroz Con Pollo\n",
      "Arroz Rojo\n",
      "Arroz Con Pollo\n",
      "\n",
      "Recetas para pollo:\n",
      "Nicaraguan Arroz con Pollo Recipe\n",
      "Caldo de Pollo\n",
      "Arroz Con Pollo\n",
      "Pollo Relleno\n",
      "Arroz Con Pollo\n",
      "Pollo Borracho\n",
      "Barbacoa de pollo\n",
      "Tinga de Pollo\n",
      "Pollo Asado\n",
      "Arroz Con Pollo\n",
      "\n",
      "Recetas para la combinación ('arroz', 'pollo'):\n",
      "Nicaraguan Arroz con Pollo Recipe\n",
      "Arroz Con Pollo\n",
      "Arroz con Pollo\n",
      "Arroz Con Pollo\n",
      "Arroz con Pollo de Colombia\n",
      "Arroz con Pollo\n",
      "Arroz Con Pollo\n",
      "Arroz con Pollo\n",
      "Arroz Con Pollo\n",
      "Arroz Con Pollo\n",
      "\n"
     ]
    }
   ],
   "source": [
    "# Obtengo los ingredientes\n",
    "ingredients_str = input(\"Ingresa los ingredientes disponibles (separados por comas): \")\n",
    "available_ingredients = [ingredient.strip() for ingredient in ingredients_str.split(\",\")]\n",
    "\n",
    "# Genero las recetas personalizadas\n",
    "generate_personalized_recipes(available_ingredients, app_id, app_key)"
   ]
  },
  {
   "cell_type": "code",
   "execution_count": null,
   "metadata": {},
   "outputs": [],
   "source": [
    "# A partir de aqui, quiero imprimir la receta que quiero hacer"
   ]
  },
  {
   "cell_type": "code",
   "execution_count": 7,
   "metadata": {},
   "outputs": [],
   "source": [
    "import requests\n",
    "\n",
    "#  API\n",
    "app_id = \"0ceaaf83\"\n",
    "app_key = \"93ff26f92c228dbafa3d7d2f9b789a39\"\n",
    "\n",
    "# Pido al usuario el nombre de la receta (creo que tiene que ir tal cuál)\n",
    "recipe_name = input(\"Ingresa el nombre de la receta que quieres buscar: \")\n",
    "\n",
    "# Consulto la API la receta \n",
    "api_url = f'https://api.edamam.com/search'\n",
    "params = {\n",
    "    'q': recipe_name,\n",
    "    'app_id': app_id,\n",
    "    'app_key': app_key\n",
    "}\n",
    "response = requests.get(api_url, params=params)"
   ]
  },
  {
   "cell_type": "code",
   "execution_count": 8,
   "metadata": {},
   "outputs": [
    {
     "name": "stdout",
     "output_type": "stream",
     "text": [
      "Nombre: Nicaraguan Arroz con Pollo Recipe\n",
      "URL: http://www.seriouseats.com/recipes/2012/04/nicaraguan-arroz-con-pollo-recipe.html\n",
      "Ingredientes:\n",
      "- For the Chicken\n",
      "- 1 whole large chicken (about 4 to 5 pounds), cut into 8 pieces, skin removed\n",
      "- 1 medium yellow or white onion, peeled and cut into 6 wedges\n",
      "- 1 medium green bell pepper, seeded and quartered\n",
      "- 6 garlic cloves, peeled and smashed\n",
      "- 1 tablespoon salt\n",
      "- 2 teaspoons black peppercorns\n",
      "- 8 cups cold water\n",
      "- 1 lime, halved\n",
      "- For the Rice\n",
      "- 2 tablespoons unsalted butter\n",
      "- 1 tablespoon olive oil\n",
      "- 1 medium yellow or white onion, finely chopped (about 1 cup)\n",
      "- 1 medium garlic clove, minced (about 1 teaspoon)\n",
      "- 2 teaspoons salt\n",
      "- 2 tablespoons tomato paste\n",
      "- 2 cups long-grain white rice\n",
      "- 2 medium carrots, peeled and cut into small dice (about 1 cups)\n",
      "- 4 cups chicken broth\n",
      "- For the Arroz con Pollo\n",
      "- 3 tablespoons unsalted butter\n",
      "- 8 ounces smoked sausage (such as Lil’ Smokies) or Kielbasa sausage, cut into 1/4-inch-thick rounds\n",
      "- 1/4 pound sliced deli ham, coarsely chopped\n",
      "- 1 medium yellow or white onion, finely chopped (about 1 cup)\n",
      "- 3/4 cup drained canned or jarred piquillo peppers, finely chopped\n",
      "- 2 tablespoons tomato paste\n",
      "- 6 tablespoons ketchup\n",
      "- 3/4 cup pimento-stuffed olives, sliced\n",
      "- 1/3 cup capers, drained\n",
      "- 1 1/2 cups frozen peas\n",
      "- Salt\n",
      "- 1 cup (2 ounces) finely grated Parmesan cheese (optional)\n",
      "- Buttered white toast (optional)\n"
     ]
    }
   ],
   "source": [
    "if response.status_code == 200:\n",
    "    data = response.json()\n",
    "    hits = data.get('hits', [])\n",
    "\n",
    "    if hits:\n",
    "        # Tomo la primera receta encontrada\n",
    "        recipe = hits[0]['recipe']\n",
    "\n",
    "        # Muestro la información\n",
    "        print(f\"Nombre: {recipe['label']}\")\n",
    "        print(f\"URL: {recipe['url']}\")\n",
    "        print(\"Ingredientes:\")\n",
    "        for ingredient in recipe['ingredientLines']:\n",
    "            print(f\"- {ingredient}\")\n",
    "    else:\n",
    "        print(\"No se encontraron recetas para ese nombre.\")\n",
    "else:\n",
    "    print(f\"Error en la consulta. Código de estado: {response.status_code}\")"
   ]
  }
 ],
 "metadata": {
  "kernelspec": {
   "display_name": "Python 3",
   "language": "python",
   "name": "python3"
  },
  "language_info": {
   "codemirror_mode": {
    "name": "ipython",
    "version": 3
   },
   "file_extension": ".py",
   "mimetype": "text/x-python",
   "name": "python",
   "nbconvert_exporter": "python",
   "pygments_lexer": "ipython3",
   "version": "3.11.7"
  }
 },
 "nbformat": 4,
 "nbformat_minor": 2
}
